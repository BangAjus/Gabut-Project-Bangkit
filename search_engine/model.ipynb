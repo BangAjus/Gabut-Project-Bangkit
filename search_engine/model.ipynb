{
 "cells": [
  {
   "cell_type": "code",
   "execution_count": 7,
   "metadata": {},
   "outputs": [],
   "source": [
    "import pandas as pd\n",
    "import re\n",
    "import numpy as np\n",
    "from numpy.linalg import norm\n",
    "from sklearn.feature_extraction.text import CountVectorizer\n",
    "from scipy.stats import pearsonr\n",
    "from scipy.spatial import distance"
   ]
  },
  {
   "cell_type": "code",
   "execution_count": 2,
   "metadata": {},
   "outputs": [
    {
     "data": {
      "text/plain": [
       "<90x77 sparse matrix of type '<class 'numpy.int64'>'\n",
       "\twith 268 stored elements in Compressed Sparse Row format>"
      ]
     },
     "execution_count": 2,
     "metadata": {},
     "output_type": "execute_result"
    }
   ],
   "source": [
    "df = pd.read_csv('data.csv')\n",
    "\n",
    "x = df['title']\n",
    "x = [re.sub(r'[\\W_]+', ' ', i.lower()) for i in x]\n",
    "vectorizer = CountVectorizer()\n",
    "vectorizer.fit_transform(x)"
   ]
  },
  {
   "cell_type": "code",
   "execution_count": 8,
   "metadata": {},
   "outputs": [],
   "source": [
    "def find_sim(search_key, data, method='cosine'):\n",
    "\n",
    "    search_key = [search_key.lower()]\n",
    "    key_vector = vectorizer.transform(search_key).toarray().flatten()\n",
    "    result = {}\n",
    "\n",
    "    if method == 'cosine':\n",
    "        for i in data:\n",
    "            tmp = re.sub(r'[\\W_]+', ' ', i.lower())\n",
    "            tmp = vectorizer.transform([i]).toarray().flatten()\n",
    "            cosine = np.dot(key_vector, tmp)/(norm(key_vector)*norm(tmp))\n",
    "            result[i] = cosine\n",
    "\n",
    "    if method == 'euclidean':\n",
    "        for i in data:\n",
    "            tmp = re.sub(r'[\\W_]+', ' ', i.lower())\n",
    "            tmp = vectorizer.transform([i]).toarray().flatten()\n",
    "            euclidean = norm(np.array(tmp) - np.array(key_vector))\n",
    "            result[i] = euclidean\n",
    "\n",
    "    if method == 'manhattan':\n",
    "        for i in data:\n",
    "            tmp = re.sub(r'[\\W_]+', ' ', i.lower())\n",
    "            tmp = vectorizer.transform([i]).toarray().flatten()\n",
    "            manhattan = np.sum(np.absolute(tmp - key_vector))\n",
    "            result[i] = manhattan / 100\n",
    "\n",
    "    if method == 'pearson':\n",
    "        for i in data:\n",
    "            tmp = re.sub(r'[\\W_]+', ' ', i.lower())\n",
    "            tmp = vectorizer.transform([i]).toarray().flatten()\n",
    "            pearson = 1 - pearsonr(key_vector, tmp)\n",
    "            result[i] = pearson\n",
    "\n",
    "    if method == 'chi2':\n",
    "        for i in data:\n",
    "            tmp = re.sub(r'[\\W_]+', ' ', i.lower())\n",
    "            tmp = vectorizer.transform([i]).toarray().flatten()\n",
    "            chi2 = distance.chisquare(key_vector, tmp)\n",
    "            result[i] = chi2\n",
    "\n",
    "    result = dict(sorted(result.items(), key=lambda item: item[1])[::-1])\n",
    "    return result"
   ]
  },
  {
   "cell_type": "code",
   "execution_count": null,
   "metadata": {},
   "outputs": [],
   "source": []
  },
  {
   "cell_type": "markdown",
   "metadata": {},
   "source": [
    "find_sim('web design', [i for i in df['title']], )"
   ]
  },
  {
   "cell_type": "code",
   "execution_count": null,
   "metadata": {},
   "outputs": [],
   "source": []
  }
 ],
 "metadata": {
  "kernelspec": {
   "display_name": "Python 3 (ipykernel)",
   "language": "python",
   "name": "python3"
  },
  "language_info": {
   "codemirror_mode": {
    "name": "ipython",
    "version": 3
   },
   "file_extension": ".py",
   "mimetype": "text/x-python",
   "name": "python",
   "nbconvert_exporter": "python",
   "pygments_lexer": "ipython3",
   "version": "3.8.4"
  },
  "orig_nbformat": 4
 },
 "nbformat": 4,
 "nbformat_minor": 2
}
